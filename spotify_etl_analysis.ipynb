{
 "cells": [
  {
   "cell_type": "markdown",
   "metadata": {},
   "source": [
    "# Spotify ETL Project"
   ]
  },
  {
   "cell_type": "code",
   "execution_count": 2,
   "metadata": {},
   "outputs": [],
   "source": [
    "import pandas as pd\n",
    "import matplotlib.pyplot as plt\n",
    "import seaborn as sns\n",
    "\n",
    "# load data\n",
    "df = pd.read_csv('scripts/data/recent_tracks.csv')"
   ]
  },
  {
   "cell_type": "code",
   "execution_count": 3,
   "metadata": {},
   "outputs": [
    {
     "name": "stdout",
     "output_type": "stream",
     "text": [
      "<class 'pandas.core.frame.DataFrame'>\n",
      "RangeIndex: 29 entries, 0 to 28\n",
      "Data columns (total 18 columns):\n",
      " #   Column                        Non-Null Count  Dtype  \n",
      "---  ------                        --------------  -----  \n",
      " 0   played_at                     29 non-null     object \n",
      " 1   track_name                    29 non-null     object \n",
      " 2   track_id                      29 non-null     object \n",
      " 3   track_duration_ms             29 non-null     int64  \n",
      " 4   popularity                    29 non-null     int64  \n",
      " 5   track_uri                     29 non-null     object \n",
      " 6   is_playable                   29 non-null     bool   \n",
      " 7   album_name                    29 non-null     object \n",
      " 8   album_id                      29 non-null     object \n",
      " 9   album_release_date            29 non-null     object \n",
      " 10  album_release_date_precision  29 non-null     object \n",
      " 11  album_total_tracks            29 non-null     int64  \n",
      " 12  album_type                    29 non-null     object \n",
      " 13  album_images                  29 non-null     object \n",
      " 14  album_label                   0 non-null      float64\n",
      " 15  artist_name                   29 non-null     object \n",
      " 16  artist_ids                    29 non-null     object \n",
      " 17  artist_genres                 26 non-null     object \n",
      "dtypes: bool(1), float64(1), int64(3), object(13)\n",
      "memory usage: 4.0+ KB\n"
     ]
    }
   ],
   "source": [
    "# information about the data\n",
    "df.info()"
   ]
  },
  {
   "cell_type": "code",
   "execution_count": 4,
   "metadata": {},
   "outputs": [
    {
     "data": {
      "text/html": [
       "<div>\n",
       "<style scoped>\n",
       "    .dataframe tbody tr th:only-of-type {\n",
       "        vertical-align: middle;\n",
       "    }\n",
       "\n",
       "    .dataframe tbody tr th {\n",
       "        vertical-align: top;\n",
       "    }\n",
       "\n",
       "    .dataframe thead th {\n",
       "        text-align: right;\n",
       "    }\n",
       "</style>\n",
       "<table border=\"1\" class=\"dataframe\">\n",
       "  <thead>\n",
       "    <tr style=\"text-align: right;\">\n",
       "      <th></th>\n",
       "      <th>played_at</th>\n",
       "      <th>track_name</th>\n",
       "      <th>track_id</th>\n",
       "      <th>track_duration_ms</th>\n",
       "      <th>popularity</th>\n",
       "      <th>track_uri</th>\n",
       "      <th>is_playable</th>\n",
       "      <th>album_name</th>\n",
       "      <th>album_id</th>\n",
       "      <th>album_release_date</th>\n",
       "      <th>album_release_date_precision</th>\n",
       "      <th>album_total_tracks</th>\n",
       "      <th>album_type</th>\n",
       "      <th>album_images</th>\n",
       "      <th>album_label</th>\n",
       "      <th>artist_name</th>\n",
       "      <th>artist_ids</th>\n",
       "      <th>artist_genres</th>\n",
       "    </tr>\n",
       "  </thead>\n",
       "  <tbody>\n",
       "    <tr>\n",
       "      <th>0</th>\n",
       "      <td>2024-08-23 12:06:01</td>\n",
       "      <td>i like the way you kiss me</td>\n",
       "      <td>3JG1uFc40wfyrqaWC7iv0e</td>\n",
       "      <td>142514</td>\n",
       "      <td>80</td>\n",
       "      <td>spotify:track:3JG1uFc40wfyrqaWC7iv0e</td>\n",
       "      <td>True</td>\n",
       "      <td>yustyna</td>\n",
       "      <td>5nzSCZ7NhKvAysI0tmNOdD</td>\n",
       "      <td>2024-07-11</td>\n",
       "      <td>day</td>\n",
       "      <td>14</td>\n",
       "      <td>album</td>\n",
       "      <td>[{'height': 640, 'url': 'https://i.scdn.co/ima...</td>\n",
       "      <td>NaN</td>\n",
       "      <td>Artemas</td>\n",
       "      <td>0PCCGZ0wGLizHt2KZ7hhA2</td>\n",
       "      <td>NaN</td>\n",
       "    </tr>\n",
       "    <tr>\n",
       "      <th>1</th>\n",
       "      <td>2024-08-23 12:03:38</td>\n",
       "      <td>Apple</td>\n",
       "      <td>19RybK6XDbAVpcdxSbZL1o</td>\n",
       "      <td>151739</td>\n",
       "      <td>89</td>\n",
       "      <td>spotify:track:19RybK6XDbAVpcdxSbZL1o</td>\n",
       "      <td>True</td>\n",
       "      <td>BRAT</td>\n",
       "      <td>2lIZef4lzdvZkiiCzvPKj7</td>\n",
       "      <td>2024-06-07</td>\n",
       "      <td>day</td>\n",
       "      <td>15</td>\n",
       "      <td>album</td>\n",
       "      <td>[{'height': 640, 'url': 'https://i.scdn.co/ima...</td>\n",
       "      <td>NaN</td>\n",
       "      <td>Charli xcx</td>\n",
       "      <td>25uiPmTg16RbhZWAqwLBy5</td>\n",
       "      <td>art pop, candy pop, metropopolis, pop, uk pop</td>\n",
       "    </tr>\n",
       "    <tr>\n",
       "      <th>2</th>\n",
       "      <td>2024-08-23 12:01:05</td>\n",
       "      <td>Austin (Boots Stop Workin')</td>\n",
       "      <td>2uqYupMHANxnwgeiXTZXzd</td>\n",
       "      <td>171782</td>\n",
       "      <td>91</td>\n",
       "      <td>spotify:track:2uqYupMHANxnwgeiXTZXzd</td>\n",
       "      <td>True</td>\n",
       "      <td>What Happens Now?</td>\n",
       "      <td>40HsqPqeSR9Xe3IyAJWr6e</td>\n",
       "      <td>2024-02-16</td>\n",
       "      <td>day</td>\n",
       "      <td>8</td>\n",
       "      <td>album</td>\n",
       "      <td>[{'height': 640, 'url': 'https://i.scdn.co/ima...</td>\n",
       "      <td>NaN</td>\n",
       "      <td>Dasha</td>\n",
       "      <td>7Ez6lTtSMjMf2YSYpukP1I</td>\n",
       "      <td>NaN</td>\n",
       "    </tr>\n",
       "    <tr>\n",
       "      <th>3</th>\n",
       "      <td>2024-08-23 11:58:14</td>\n",
       "      <td>HOT TO GO!</td>\n",
       "      <td>4xdBrk0nFZaP54vvZj0yx7</td>\n",
       "      <td>184841</td>\n",
       "      <td>91</td>\n",
       "      <td>spotify:track:4xdBrk0nFZaP54vvZj0yx7</td>\n",
       "      <td>True</td>\n",
       "      <td>The Rise and Fall of a Midwest Princess</td>\n",
       "      <td>0EiI8ylL0FmWWpgHVTsZjZ</td>\n",
       "      <td>2023-09-22</td>\n",
       "      <td>day</td>\n",
       "      <td>14</td>\n",
       "      <td>album</td>\n",
       "      <td>[{'height': 640, 'url': 'https://i.scdn.co/ima...</td>\n",
       "      <td>NaN</td>\n",
       "      <td>Chappell Roan</td>\n",
       "      <td>7GlBOeep6PqTfFi59PTUUN</td>\n",
       "      <td>indie pop, pov: indie</td>\n",
       "    </tr>\n",
       "    <tr>\n",
       "      <th>4</th>\n",
       "      <td>2024-08-23 11:55:08</td>\n",
       "      <td>we can't be friends (wait for your love)</td>\n",
       "      <td>51ZQ1vr10ffzbwIjDCwqm4</td>\n",
       "      <td>228639</td>\n",
       "      <td>89</td>\n",
       "      <td>spotify:track:51ZQ1vr10ffzbwIjDCwqm4</td>\n",
       "      <td>True</td>\n",
       "      <td>eternal sunshine</td>\n",
       "      <td>5EYKrEDnKhhcNxGedaRQeK</td>\n",
       "      <td>2024-03-08</td>\n",
       "      <td>day</td>\n",
       "      <td>13</td>\n",
       "      <td>album</td>\n",
       "      <td>[{'height': 640, 'url': 'https://i.scdn.co/ima...</td>\n",
       "      <td>NaN</td>\n",
       "      <td>Ariana Grande</td>\n",
       "      <td>66CXWjxzNUsdJxJ2JdwvnR</td>\n",
       "      <td>pop</td>\n",
       "    </tr>\n",
       "  </tbody>\n",
       "</table>\n",
       "</div>"
      ],
      "text/plain": [
       "             played_at                                track_name  \\\n",
       "0  2024-08-23 12:06:01                i like the way you kiss me   \n",
       "1  2024-08-23 12:03:38                                     Apple   \n",
       "2  2024-08-23 12:01:05               Austin (Boots Stop Workin')   \n",
       "3  2024-08-23 11:58:14                                HOT TO GO!   \n",
       "4  2024-08-23 11:55:08  we can't be friends (wait for your love)   \n",
       "\n",
       "                 track_id  track_duration_ms  popularity  \\\n",
       "0  3JG1uFc40wfyrqaWC7iv0e             142514          80   \n",
       "1  19RybK6XDbAVpcdxSbZL1o             151739          89   \n",
       "2  2uqYupMHANxnwgeiXTZXzd             171782          91   \n",
       "3  4xdBrk0nFZaP54vvZj0yx7             184841          91   \n",
       "4  51ZQ1vr10ffzbwIjDCwqm4             228639          89   \n",
       "\n",
       "                              track_uri  is_playable  \\\n",
       "0  spotify:track:3JG1uFc40wfyrqaWC7iv0e         True   \n",
       "1  spotify:track:19RybK6XDbAVpcdxSbZL1o         True   \n",
       "2  spotify:track:2uqYupMHANxnwgeiXTZXzd         True   \n",
       "3  spotify:track:4xdBrk0nFZaP54vvZj0yx7         True   \n",
       "4  spotify:track:51ZQ1vr10ffzbwIjDCwqm4         True   \n",
       "\n",
       "                                album_name                album_id  \\\n",
       "0                                  yustyna  5nzSCZ7NhKvAysI0tmNOdD   \n",
       "1                                     BRAT  2lIZef4lzdvZkiiCzvPKj7   \n",
       "2                        What Happens Now?  40HsqPqeSR9Xe3IyAJWr6e   \n",
       "3  The Rise and Fall of a Midwest Princess  0EiI8ylL0FmWWpgHVTsZjZ   \n",
       "4                         eternal sunshine  5EYKrEDnKhhcNxGedaRQeK   \n",
       "\n",
       "  album_release_date album_release_date_precision  album_total_tracks  \\\n",
       "0         2024-07-11                          day                  14   \n",
       "1         2024-06-07                          day                  15   \n",
       "2         2024-02-16                          day                   8   \n",
       "3         2023-09-22                          day                  14   \n",
       "4         2024-03-08                          day                  13   \n",
       "\n",
       "  album_type                                       album_images  album_label  \\\n",
       "0      album  [{'height': 640, 'url': 'https://i.scdn.co/ima...          NaN   \n",
       "1      album  [{'height': 640, 'url': 'https://i.scdn.co/ima...          NaN   \n",
       "2      album  [{'height': 640, 'url': 'https://i.scdn.co/ima...          NaN   \n",
       "3      album  [{'height': 640, 'url': 'https://i.scdn.co/ima...          NaN   \n",
       "4      album  [{'height': 640, 'url': 'https://i.scdn.co/ima...          NaN   \n",
       "\n",
       "     artist_name              artist_ids  \\\n",
       "0        Artemas  0PCCGZ0wGLizHt2KZ7hhA2   \n",
       "1     Charli xcx  25uiPmTg16RbhZWAqwLBy5   \n",
       "2          Dasha  7Ez6lTtSMjMf2YSYpukP1I   \n",
       "3  Chappell Roan  7GlBOeep6PqTfFi59PTUUN   \n",
       "4  Ariana Grande  66CXWjxzNUsdJxJ2JdwvnR   \n",
       "\n",
       "                                   artist_genres  \n",
       "0                                            NaN  \n",
       "1  art pop, candy pop, metropopolis, pop, uk pop  \n",
       "2                                            NaN  \n",
       "3                          indie pop, pov: indie  \n",
       "4                                            pop  "
      ]
     },
     "execution_count": 4,
     "metadata": {},
     "output_type": "execute_result"
    }
   ],
   "source": [
    "# first 5 rows of the data\n",
    "df.head()"
   ]
  },
  {
   "cell_type": "code",
   "execution_count": 5,
   "metadata": {},
   "outputs": [
    {
     "data": {
      "text/plain": [
       "played_at                        0\n",
       "track_name                       0\n",
       "track_id                         0\n",
       "track_duration_ms                0\n",
       "popularity                       0\n",
       "track_uri                        0\n",
       "is_playable                      0\n",
       "album_name                       0\n",
       "album_id                         0\n",
       "album_release_date               0\n",
       "album_release_date_precision     0\n",
       "album_total_tracks               0\n",
       "album_type                       0\n",
       "album_images                     0\n",
       "album_label                     29\n",
       "artist_name                      0\n",
       "artist_ids                       0\n",
       "artist_genres                    3\n",
       "dtype: int64"
      ]
     },
     "execution_count": 5,
     "metadata": {},
     "output_type": "execute_result"
    }
   ],
   "source": [
    "# check for missing values\n",
    "df.isnull().sum()"
   ]
  },
  {
   "cell_type": "markdown",
   "metadata": {},
   "source": [
    "### Some numbers"
   ]
  },
  {
   "cell_type": "code",
   "execution_count": 6,
   "metadata": {},
   "outputs": [
    {
     "name": "stdout",
     "output_type": "stream",
     "text": [
      "Total unique tracks: 29\n"
     ]
    }
   ],
   "source": [
    "unique_tracks = df['track_name'].nunique()\n",
    "print(f\"Total unique tracks: {unique_tracks}\")"
   ]
  },
  {
   "cell_type": "code",
   "execution_count": 7,
   "metadata": {},
   "outputs": [
    {
     "name": "stdout",
     "output_type": "stream",
     "text": [
      "Total unique artists: 27\n"
     ]
    }
   ],
   "source": [
    "unique_artists = df['artist_name'].nunique()\n",
    "print(f\"Total unique artists: {unique_artists}\")"
   ]
  },
  {
   "cell_type": "code",
   "execution_count": 8,
   "metadata": {},
   "outputs": [
    {
     "name": "stdout",
     "output_type": "stream",
     "text": [
      "Total unique genres: 20\n"
     ]
    }
   ],
   "source": [
    "unique_genres = df['artist_genres'].nunique()\n",
    "print(f\"Total unique genres: {unique_genres}\")"
   ]
  },
  {
   "cell_type": "markdown",
   "metadata": {},
   "source": [
    "### Top tracks and artists"
   ]
  },
  {
   "cell_type": "code",
   "execution_count": 9,
   "metadata": {},
   "outputs": [
    {
     "name": "stdout",
     "output_type": "stream",
     "text": [
      "Top 10 tracks:\n",
      "track_name\n",
      "i like the way you kiss me       1\n",
      "Too Sweet                        1\n",
      "Who                              1\n",
      "Espresso                         1\n",
      "Please Please Please             1\n",
      "Si Antes Te Hubiera Conocido     1\n",
      "Good Luck, Babe!                 1\n",
      "Big Dawgs                        1\n",
      "Guess featuring Billie Eilish    1\n",
      "Beautiful Things                 1\n",
      "Name: count, dtype: int64\n"
     ]
    }
   ],
   "source": [
    "top_tracks = df['track_name'].value_counts().head(10)\n",
    "print(\"Top 10 tracks:\")\n",
    "print(top_tracks)"
   ]
  },
  {
   "cell_type": "code",
   "execution_count": 10,
   "metadata": {},
   "outputs": [
    {
     "name": "stdout",
     "output_type": "stream",
     "text": [
      "Top 10 artists:\n",
      "artist_name\n",
      "Chappell Roan                       2\n",
      "Sabrina Carpenter                   2\n",
      "Artemas                             1\n",
      "Sevdaliza, Pabllo Vittar, Yseult    1\n",
      "Jimin                               1\n",
      "KAROL G                             1\n",
      "Hanumankind, Kalmi                  1\n",
      "Charli xcx, Billie Eilish           1\n",
      "Benson Boone                        1\n",
      "FloyyMenor, Cris Mj                 1\n",
      "Name: count, dtype: int64\n"
     ]
    }
   ],
   "source": [
    "top_artists = df['artist_name'].value_counts().head(10)\n",
    "print(\"Top 10 artists:\")\n",
    "print(top_artists)"
   ]
  },
  {
   "cell_type": "markdown",
   "metadata": {},
   "source": [
    "### times when I listen to music "
   ]
  },
  {
   "cell_type": "code",
   "execution_count": 11,
   "metadata": {},
   "outputs": [
    {
     "data": {
      "text/html": [
       "<div>\n",
       "<style scoped>\n",
       "    .dataframe tbody tr th:only-of-type {\n",
       "        vertical-align: middle;\n",
       "    }\n",
       "\n",
       "    .dataframe tbody tr th {\n",
       "        vertical-align: top;\n",
       "    }\n",
       "\n",
       "    .dataframe thead th {\n",
       "        text-align: right;\n",
       "    }\n",
       "</style>\n",
       "<table border=\"1\" class=\"dataframe\">\n",
       "  <thead>\n",
       "    <tr style=\"text-align: right;\">\n",
       "      <th></th>\n",
       "      <th>played_at</th>\n",
       "      <th>track_name</th>\n",
       "      <th>track_id</th>\n",
       "      <th>track_duration_ms</th>\n",
       "      <th>popularity</th>\n",
       "      <th>track_uri</th>\n",
       "      <th>is_playable</th>\n",
       "      <th>album_name</th>\n",
       "      <th>album_id</th>\n",
       "      <th>album_release_date</th>\n",
       "      <th>...</th>\n",
       "      <th>album_total_tracks</th>\n",
       "      <th>album_type</th>\n",
       "      <th>album_images</th>\n",
       "      <th>album_label</th>\n",
       "      <th>artist_name</th>\n",
       "      <th>artist_ids</th>\n",
       "      <th>artist_genres</th>\n",
       "      <th>day_of_month</th>\n",
       "      <th>day_of_week</th>\n",
       "      <th>hour_of_day</th>\n",
       "    </tr>\n",
       "  </thead>\n",
       "  <tbody>\n",
       "    <tr>\n",
       "      <th>0</th>\n",
       "      <td>2024-08-23 12:06:01</td>\n",
       "      <td>i like the way you kiss me</td>\n",
       "      <td>3JG1uFc40wfyrqaWC7iv0e</td>\n",
       "      <td>142514</td>\n",
       "      <td>80</td>\n",
       "      <td>spotify:track:3JG1uFc40wfyrqaWC7iv0e</td>\n",
       "      <td>True</td>\n",
       "      <td>yustyna</td>\n",
       "      <td>5nzSCZ7NhKvAysI0tmNOdD</td>\n",
       "      <td>2024-07-11</td>\n",
       "      <td>...</td>\n",
       "      <td>14</td>\n",
       "      <td>album</td>\n",
       "      <td>[{'height': 640, 'url': 'https://i.scdn.co/ima...</td>\n",
       "      <td>NaN</td>\n",
       "      <td>Artemas</td>\n",
       "      <td>0PCCGZ0wGLizHt2KZ7hhA2</td>\n",
       "      <td>NaN</td>\n",
       "      <td>23</td>\n",
       "      <td>Friday</td>\n",
       "      <td>12</td>\n",
       "    </tr>\n",
       "    <tr>\n",
       "      <th>1</th>\n",
       "      <td>2024-08-23 12:03:38</td>\n",
       "      <td>Apple</td>\n",
       "      <td>19RybK6XDbAVpcdxSbZL1o</td>\n",
       "      <td>151739</td>\n",
       "      <td>89</td>\n",
       "      <td>spotify:track:19RybK6XDbAVpcdxSbZL1o</td>\n",
       "      <td>True</td>\n",
       "      <td>BRAT</td>\n",
       "      <td>2lIZef4lzdvZkiiCzvPKj7</td>\n",
       "      <td>2024-06-07</td>\n",
       "      <td>...</td>\n",
       "      <td>15</td>\n",
       "      <td>album</td>\n",
       "      <td>[{'height': 640, 'url': 'https://i.scdn.co/ima...</td>\n",
       "      <td>NaN</td>\n",
       "      <td>Charli xcx</td>\n",
       "      <td>25uiPmTg16RbhZWAqwLBy5</td>\n",
       "      <td>art pop, candy pop, metropopolis, pop, uk pop</td>\n",
       "      <td>23</td>\n",
       "      <td>Friday</td>\n",
       "      <td>12</td>\n",
       "    </tr>\n",
       "    <tr>\n",
       "      <th>2</th>\n",
       "      <td>2024-08-23 12:01:05</td>\n",
       "      <td>Austin (Boots Stop Workin')</td>\n",
       "      <td>2uqYupMHANxnwgeiXTZXzd</td>\n",
       "      <td>171782</td>\n",
       "      <td>91</td>\n",
       "      <td>spotify:track:2uqYupMHANxnwgeiXTZXzd</td>\n",
       "      <td>True</td>\n",
       "      <td>What Happens Now?</td>\n",
       "      <td>40HsqPqeSR9Xe3IyAJWr6e</td>\n",
       "      <td>2024-02-16</td>\n",
       "      <td>...</td>\n",
       "      <td>8</td>\n",
       "      <td>album</td>\n",
       "      <td>[{'height': 640, 'url': 'https://i.scdn.co/ima...</td>\n",
       "      <td>NaN</td>\n",
       "      <td>Dasha</td>\n",
       "      <td>7Ez6lTtSMjMf2YSYpukP1I</td>\n",
       "      <td>NaN</td>\n",
       "      <td>23</td>\n",
       "      <td>Friday</td>\n",
       "      <td>12</td>\n",
       "    </tr>\n",
       "    <tr>\n",
       "      <th>3</th>\n",
       "      <td>2024-08-23 11:58:14</td>\n",
       "      <td>HOT TO GO!</td>\n",
       "      <td>4xdBrk0nFZaP54vvZj0yx7</td>\n",
       "      <td>184841</td>\n",
       "      <td>91</td>\n",
       "      <td>spotify:track:4xdBrk0nFZaP54vvZj0yx7</td>\n",
       "      <td>True</td>\n",
       "      <td>The Rise and Fall of a Midwest Princess</td>\n",
       "      <td>0EiI8ylL0FmWWpgHVTsZjZ</td>\n",
       "      <td>2023-09-22</td>\n",
       "      <td>...</td>\n",
       "      <td>14</td>\n",
       "      <td>album</td>\n",
       "      <td>[{'height': 640, 'url': 'https://i.scdn.co/ima...</td>\n",
       "      <td>NaN</td>\n",
       "      <td>Chappell Roan</td>\n",
       "      <td>7GlBOeep6PqTfFi59PTUUN</td>\n",
       "      <td>indie pop, pov: indie</td>\n",
       "      <td>23</td>\n",
       "      <td>Friday</td>\n",
       "      <td>11</td>\n",
       "    </tr>\n",
       "    <tr>\n",
       "      <th>4</th>\n",
       "      <td>2024-08-23 11:55:08</td>\n",
       "      <td>we can't be friends (wait for your love)</td>\n",
       "      <td>51ZQ1vr10ffzbwIjDCwqm4</td>\n",
       "      <td>228639</td>\n",
       "      <td>89</td>\n",
       "      <td>spotify:track:51ZQ1vr10ffzbwIjDCwqm4</td>\n",
       "      <td>True</td>\n",
       "      <td>eternal sunshine</td>\n",
       "      <td>5EYKrEDnKhhcNxGedaRQeK</td>\n",
       "      <td>2024-03-08</td>\n",
       "      <td>...</td>\n",
       "      <td>13</td>\n",
       "      <td>album</td>\n",
       "      <td>[{'height': 640, 'url': 'https://i.scdn.co/ima...</td>\n",
       "      <td>NaN</td>\n",
       "      <td>Ariana Grande</td>\n",
       "      <td>66CXWjxzNUsdJxJ2JdwvnR</td>\n",
       "      <td>pop</td>\n",
       "      <td>23</td>\n",
       "      <td>Friday</td>\n",
       "      <td>11</td>\n",
       "    </tr>\n",
       "  </tbody>\n",
       "</table>\n",
       "<p>5 rows × 21 columns</p>\n",
       "</div>"
      ],
      "text/plain": [
       "            played_at                                track_name  \\\n",
       "0 2024-08-23 12:06:01                i like the way you kiss me   \n",
       "1 2024-08-23 12:03:38                                     Apple   \n",
       "2 2024-08-23 12:01:05               Austin (Boots Stop Workin')   \n",
       "3 2024-08-23 11:58:14                                HOT TO GO!   \n",
       "4 2024-08-23 11:55:08  we can't be friends (wait for your love)   \n",
       "\n",
       "                 track_id  track_duration_ms  popularity  \\\n",
       "0  3JG1uFc40wfyrqaWC7iv0e             142514          80   \n",
       "1  19RybK6XDbAVpcdxSbZL1o             151739          89   \n",
       "2  2uqYupMHANxnwgeiXTZXzd             171782          91   \n",
       "3  4xdBrk0nFZaP54vvZj0yx7             184841          91   \n",
       "4  51ZQ1vr10ffzbwIjDCwqm4             228639          89   \n",
       "\n",
       "                              track_uri  is_playable  \\\n",
       "0  spotify:track:3JG1uFc40wfyrqaWC7iv0e         True   \n",
       "1  spotify:track:19RybK6XDbAVpcdxSbZL1o         True   \n",
       "2  spotify:track:2uqYupMHANxnwgeiXTZXzd         True   \n",
       "3  spotify:track:4xdBrk0nFZaP54vvZj0yx7         True   \n",
       "4  spotify:track:51ZQ1vr10ffzbwIjDCwqm4         True   \n",
       "\n",
       "                                album_name                album_id  \\\n",
       "0                                  yustyna  5nzSCZ7NhKvAysI0tmNOdD   \n",
       "1                                     BRAT  2lIZef4lzdvZkiiCzvPKj7   \n",
       "2                        What Happens Now?  40HsqPqeSR9Xe3IyAJWr6e   \n",
       "3  The Rise and Fall of a Midwest Princess  0EiI8ylL0FmWWpgHVTsZjZ   \n",
       "4                         eternal sunshine  5EYKrEDnKhhcNxGedaRQeK   \n",
       "\n",
       "  album_release_date  ... album_total_tracks  album_type  \\\n",
       "0         2024-07-11  ...                 14       album   \n",
       "1         2024-06-07  ...                 15       album   \n",
       "2         2024-02-16  ...                  8       album   \n",
       "3         2023-09-22  ...                 14       album   \n",
       "4         2024-03-08  ...                 13       album   \n",
       "\n",
       "                                        album_images album_label  \\\n",
       "0  [{'height': 640, 'url': 'https://i.scdn.co/ima...         NaN   \n",
       "1  [{'height': 640, 'url': 'https://i.scdn.co/ima...         NaN   \n",
       "2  [{'height': 640, 'url': 'https://i.scdn.co/ima...         NaN   \n",
       "3  [{'height': 640, 'url': 'https://i.scdn.co/ima...         NaN   \n",
       "4  [{'height': 640, 'url': 'https://i.scdn.co/ima...         NaN   \n",
       "\n",
       "     artist_name              artist_ids  \\\n",
       "0        Artemas  0PCCGZ0wGLizHt2KZ7hhA2   \n",
       "1     Charli xcx  25uiPmTg16RbhZWAqwLBy5   \n",
       "2          Dasha  7Ez6lTtSMjMf2YSYpukP1I   \n",
       "3  Chappell Roan  7GlBOeep6PqTfFi59PTUUN   \n",
       "4  Ariana Grande  66CXWjxzNUsdJxJ2JdwvnR   \n",
       "\n",
       "                                   artist_genres day_of_month  day_of_week  \\\n",
       "0                                            NaN           23       Friday   \n",
       "1  art pop, candy pop, metropopolis, pop, uk pop           23       Friday   \n",
       "2                                            NaN           23       Friday   \n",
       "3                          indie pop, pov: indie           23       Friday   \n",
       "4                                            pop           23       Friday   \n",
       "\n",
       "  hour_of_day  \n",
       "0          12  \n",
       "1          12  \n",
       "2          12  \n",
       "3          11  \n",
       "4          11  \n",
       "\n",
       "[5 rows x 21 columns]"
      ]
     },
     "execution_count": 11,
     "metadata": {},
     "output_type": "execute_result"
    }
   ],
   "source": [
    "# 'playd_at' column is in string format, convert it to datetime\n",
    "df['played_at'] = pd.to_datetime(df['played_at'])\n",
    "\n",
    "# create new columns for year, month, day, day of week and hour\n",
    "df['day_of_month'] = df['played_at'].dt.day\n",
    "df['day_of_week'] = df['played_at'].dt.day_name()\n",
    "df['hour_of_day'] = df['played_at'].dt.hour\n",
    "\n",
    "df.head()"
   ]
  },
  {
   "cell_type": "code",
   "execution_count": 12,
   "metadata": {},
   "outputs": [
    {
     "name": "stdout",
     "output_type": "stream",
     "text": [
      "Listening habits by day of week:\n",
      "day_of_week\n",
      "Friday    29\n",
      "Name: count, dtype: int64\n"
     ]
    }
   ],
   "source": [
    "weekday_counts = df['day_of_week'].value_counts()\n",
    "print(\"Listening habits by day of week:\")\n",
    "print(weekday_counts)"
   ]
  },
  {
   "cell_type": "code",
   "execution_count": 13,
   "metadata": {},
   "outputs": [
    {
     "name": "stdout",
     "output_type": "stream",
     "text": [
      "Listening habits by hour of day:\n",
      "hour_of_day\n",
      "10     8\n",
      "11    18\n",
      "12     3\n",
      "Name: count, dtype: int64\n"
     ]
    }
   ],
   "source": [
    "hourly_counts = df['hour_of_day'].value_counts().sort_index()\n",
    "print(\"Listening habits by hour of day:\")\n",
    "print(hourly_counts)"
   ]
  },
  {
   "cell_type": "markdown",
   "metadata": {},
   "source": [
    "### top genres"
   ]
  },
  {
   "cell_type": "code",
   "execution_count": 14,
   "metadata": {},
   "outputs": [
    {
     "name": "stdout",
     "output_type": "stream",
     "text": [
      "Top 10 genres:\n",
      "artist_genres\n",
      "pop                                                            4\n",
      "art pop, candy pop, metropopolis, pop, uk pop                  2\n",
      "singer-songwriter pop                                          2\n",
      "indie pop, pov: indie                                          2\n",
      "conscious hip hop, hip hop, rap, west coast rap                1\n",
      "k-pop                                                          1\n",
      "reggaeton, reggaeton colombiano, trap latino, urbano latino    1\n",
      "desi hip hop, indian underground rap, malayalam hip hop        1\n",
      "reggaeton chileno                                              1\n",
      "boy band, dance pop, pop                                       1\n",
      "Name: count, dtype: int64\n"
     ]
    }
   ],
   "source": [
    "top_genres = df['artist_genres'].value_counts().head(10)\n",
    "print(\"Top 10 genres:\")\n",
    "print(top_genres)"
   ]
  },
  {
   "cell_type": "markdown",
   "metadata": {},
   "source": [
    "### Data Visualization"
   ]
  },
  {
   "cell_type": "code",
   "execution_count": 15,
   "metadata": {},
   "outputs": [
    {
     "data": {
      "image/png": "[encoded data removed]",
      "text/plain": [
       "<Figure size 1000x600 with 1 Axes>"
      ]
     },
     "metadata": {},
     "output_type": "display_data"
    }
   ],
   "source": [
    "# Kuuntelutottumukset eri viikonpäivinä\n",
    "plt.figure(figsize=(10, 6))\n",
    "sns.countplot(data=df, x='day_of_week', order=['Monday', 'Tuesday', 'Wednesday', 'Thursday', 'Friday', 'Saturday', 'Sunday'])\n",
    "plt.title('Listening Habits by Day of Week')\n",
    "plt.xlabel('Day of Week')\n",
    "plt.ylabel('Number of Plays')\n",
    "plt.show()"
   ]
  },
  {
   "cell_type": "code",
   "execution_count": 16,
   "metadata": {},
   "outputs": [
    {
     "data": {
      "image/png": "[encoded data removed]",
      "text/plain": [
       "<Figure size 1000x600 with 1 Axes>"
      ]
     },
     "metadata": {},
     "output_type": "display_data"
    }
   ],
   "source": [
    "# listening habits by hour of day\n",
    "plt.figure(figsize=(10, 6))\n",
    "sns.lineplot(data=hourly_counts)\n",
    "plt.title('Listening Habits by Hour of Day')\n",
    "plt.xlabel('Hour of Day')\n",
    "plt.ylabel('Number of Plays')\n",
    "plt.show()"
   ]
  },
  {
   "cell_type": "code",
   "execution_count": 18,
   "metadata": {},
   "outputs": [
    {
     "data": {
      "image/png": "[encoded data removed]",
      "text/plain": [
       "<Figure size 1000x600 with 1 Axes>"
      ]
     },
     "metadata": {},
     "output_type": "display_data"
    }
   ],
   "source": [
    "# top artists\n",
    "plt.figure(figsize=(10, 6))\n",
    "sns.barplot(x=top_artists.values, y=top_artists.index)\n",
    "plt.title('Top 10 Artists')\n",
    "plt.xlabel('Number of Plays')\n",
    "plt.ylabel('Artist')\n",
    "plt.show()"
   ]
  },
  {
   "cell_type": "code",
   "execution_count": null,
   "metadata": {},
   "outputs": [],
   "source": []
  }
 ],
 "metadata": {
  "kernelspec": {
   "display_name": "Python 3",
   "language": "python",
   "name": "python3"
  },
  "language_info": {
   "codemirror_mode": {
    "name": "ipython",
    "version": 3
   },
   "file_extension": ".py",
   "mimetype": "text/x-python",
   "name": "python",
   "nbconvert_exporter": "python",
   "pygments_lexer": "ipython3",
   "version": "3.10.12"
  }
 },
 "nbformat": 4,
 "nbformat_minor": 2
}
