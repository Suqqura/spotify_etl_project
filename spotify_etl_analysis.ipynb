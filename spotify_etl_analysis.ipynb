{
 "cells": [
  {
   "cell_type": "markdown",
   "metadata": {},
   "source": [
    "# Spotify ETL Project"
   ]
  },
  {
   "cell_type": "code",
   "execution_count": 1,
   "metadata": {},
   "outputs": [],
   "source": [
    "import pandas as pd\n",
    "import matplotlib.pyplot as plt\n",
    "import seaborn as sns\n",
    "\n",
    "# load data\n",
    "df = pd.read_csv('data/recent_tracks.csv')"
   ]
  },
  {
   "cell_type": "code",
   "execution_count": 2,
   "metadata": {},
   "outputs": [
    {
     "name": "stdout",
     "output_type": "stream",
     "text": [
      "<class 'pandas.core.frame.DataFrame'>\n",
      "RangeIndex: 50 entries, 0 to 49\n",
      "Data columns (total 13 columns):\n",
      " #   Column              Non-Null Count  Dtype  \n",
      "---  ------              --------------  -----  \n",
      " 0   played_at           50 non-null     object \n",
      " 1   track_name          50 non-null     object \n",
      " 2   artist_name         50 non-null     object \n",
      " 3   track_duration_ms   50 non-null     float64\n",
      " 4   playlist_name       50 non-null     object \n",
      " 5   popularity          50 non-null     int64  \n",
      " 6   artist_genres       31 non-null     object \n",
      " 7   album_name          50 non-null     object \n",
      " 8   album_release_date  50 non-null     object \n",
      " 9   album_id            50 non-null     object \n",
      " 10  track_id            50 non-null     object \n",
      " 11  artist_ids          50 non-null     object \n",
      " 12  playlist_id         50 non-null     object \n",
      "dtypes: float64(1), int64(1), object(11)\n",
      "memory usage: 5.2+ KB\n"
     ]
    }
   ],
   "source": [
    "# information about the data\n",
    "df.info()"
   ]
  },
  {
   "cell_type": "code",
   "execution_count": 3,
   "metadata": {},
   "outputs": [
    {
     "data": {
      "text/html": [
       "<div>\n",
       "<style scoped>\n",
       "    .dataframe tbody tr th:only-of-type {\n",
       "        vertical-align: middle;\n",
       "    }\n",
       "\n",
       "    .dataframe tbody tr th {\n",
       "        vertical-align: top;\n",
       "    }\n",
       "\n",
       "    .dataframe thead th {\n",
       "        text-align: right;\n",
       "    }\n",
       "</style>\n",
       "<table border=\"1\" class=\"dataframe\">\n",
       "  <thead>\n",
       "    <tr style=\"text-align: right;\">\n",
       "      <th></th>\n",
       "      <th>played_at</th>\n",
       "      <th>track_name</th>\n",
       "      <th>artist_name</th>\n",
       "      <th>track_duration_ms</th>\n",
       "      <th>playlist_name</th>\n",
       "      <th>popularity</th>\n",
       "      <th>artist_genres</th>\n",
       "      <th>album_name</th>\n",
       "      <th>album_release_date</th>\n",
       "      <th>album_id</th>\n",
       "      <th>track_id</th>\n",
       "      <th>artist_ids</th>\n",
       "      <th>playlist_id</th>\n",
       "    </tr>\n",
       "  </thead>\n",
       "  <tbody>\n",
       "    <tr>\n",
       "      <th>0</th>\n",
       "      <td>2024-08-25 18:01:28</td>\n",
       "      <td>The Approaching Night</td>\n",
       "      <td>Elias Freedom</td>\n",
       "      <td>159.579</td>\n",
       "      <td>Amelie Soundtracks</td>\n",
       "      <td>41</td>\n",
       "      <td>NaN</td>\n",
       "      <td>The Approaching Night</td>\n",
       "      <td>2022-04-23</td>\n",
       "      <td>1gbnePFcPjBks5fUIAkbjc</td>\n",
       "      <td>33VMQ5tXJjjuDmOBklNWbd</td>\n",
       "      <td>14MDig5DwBw9wrIhce4lPs</td>\n",
       "      <td>6QeJJyMcTjVzjc0382jjoK</td>\n",
       "    </tr>\n",
       "    <tr>\n",
       "      <th>1</th>\n",
       "      <td>2024-08-25 18:03:53</td>\n",
       "      <td>Chasing Stars</td>\n",
       "      <td>Oscar Lynn</td>\n",
       "      <td>144.149</td>\n",
       "      <td>Amelie Soundtracks</td>\n",
       "      <td>41</td>\n",
       "      <td>NaN</td>\n",
       "      <td>Chasing Stars</td>\n",
       "      <td>2022-04-23</td>\n",
       "      <td>2ceBNWAz6iCJQF66RHWhUb</td>\n",
       "      <td>3NnxE7YROv1bJtjy6DpfYF</td>\n",
       "      <td>1fNxx6X8Ae361qBTlCKTtT</td>\n",
       "      <td>6QeJJyMcTjVzjc0382jjoK</td>\n",
       "    </tr>\n",
       "    <tr>\n",
       "      <th>2</th>\n",
       "      <td>2024-08-25 18:06:04</td>\n",
       "      <td>Breathe</td>\n",
       "      <td>Oscar Lynn</td>\n",
       "      <td>130.570</td>\n",
       "      <td>Amelie Soundtracks</td>\n",
       "      <td>41</td>\n",
       "      <td>NaN</td>\n",
       "      <td>Breathe</td>\n",
       "      <td>2022-04-23</td>\n",
       "      <td>7uSruNPuddih2WTTmE8yLJ</td>\n",
       "      <td>6fsrI0v5fFoKxBwLylvgmp</td>\n",
       "      <td>1fNxx6X8Ae361qBTlCKTtT</td>\n",
       "      <td>6QeJJyMcTjVzjc0382jjoK</td>\n",
       "    </tr>\n",
       "    <tr>\n",
       "      <th>3</th>\n",
       "      <td>2024-08-25 18:09:31</td>\n",
       "      <td>Bluebird</td>\n",
       "      <td>Oscar Lynn</td>\n",
       "      <td>206.217</td>\n",
       "      <td>Amelie Soundtracks</td>\n",
       "      <td>44</td>\n",
       "      <td>NaN</td>\n",
       "      <td>Bluebird</td>\n",
       "      <td>2022-04-23</td>\n",
       "      <td>4WclUiBu5Ff59eqADXgFMJ</td>\n",
       "      <td>1qPjR9QOif2p0Xr7XIeZQv</td>\n",
       "      <td>1fNxx6X8Ae361qBTlCKTtT</td>\n",
       "      <td>6QeJJyMcTjVzjc0382jjoK</td>\n",
       "    </tr>\n",
       "    <tr>\n",
       "      <th>4</th>\n",
       "      <td>2024-08-25 18:12:32</td>\n",
       "      <td>All My Joy, All My Pain</td>\n",
       "      <td>Oscar Lynn</td>\n",
       "      <td>180.461</td>\n",
       "      <td>Amelie Soundtracks</td>\n",
       "      <td>42</td>\n",
       "      <td>NaN</td>\n",
       "      <td>All My Joy, All My Pain</td>\n",
       "      <td>2022-04-23</td>\n",
       "      <td>4aZfAbzaXyoMrRtkagnXpF</td>\n",
       "      <td>3PwSGW6ln6BVcYz7zHKuql</td>\n",
       "      <td>1fNxx6X8Ae361qBTlCKTtT</td>\n",
       "      <td>6QeJJyMcTjVzjc0382jjoK</td>\n",
       "    </tr>\n",
       "  </tbody>\n",
       "</table>\n",
       "</div>"
      ],
      "text/plain": [
       "             played_at               track_name    artist_name  \\\n",
       "0  2024-08-25 18:01:28    The Approaching Night  Elias Freedom   \n",
       "1  2024-08-25 18:03:53            Chasing Stars     Oscar Lynn   \n",
       "2  2024-08-25 18:06:04                  Breathe     Oscar Lynn   \n",
       "3  2024-08-25 18:09:31                 Bluebird     Oscar Lynn   \n",
       "4  2024-08-25 18:12:32  All My Joy, All My Pain     Oscar Lynn   \n",
       "\n",
       "   track_duration_ms       playlist_name  popularity artist_genres  \\\n",
       "0            159.579  Amelie Soundtracks          41           NaN   \n",
       "1            144.149  Amelie Soundtracks          41           NaN   \n",
       "2            130.570  Amelie Soundtracks          41           NaN   \n",
       "3            206.217  Amelie Soundtracks          44           NaN   \n",
       "4            180.461  Amelie Soundtracks          42           NaN   \n",
       "\n",
       "                album_name album_release_date                album_id  \\\n",
       "0    The Approaching Night         2022-04-23  1gbnePFcPjBks5fUIAkbjc   \n",
       "1            Chasing Stars         2022-04-23  2ceBNWAz6iCJQF66RHWhUb   \n",
       "2                  Breathe         2022-04-23  7uSruNPuddih2WTTmE8yLJ   \n",
       "3                 Bluebird         2022-04-23  4WclUiBu5Ff59eqADXgFMJ   \n",
       "4  All My Joy, All My Pain         2022-04-23  4aZfAbzaXyoMrRtkagnXpF   \n",
       "\n",
       "                 track_id              artist_ids             playlist_id  \n",
       "0  33VMQ5tXJjjuDmOBklNWbd  14MDig5DwBw9wrIhce4lPs  6QeJJyMcTjVzjc0382jjoK  \n",
       "1  3NnxE7YROv1bJtjy6DpfYF  1fNxx6X8Ae361qBTlCKTtT  6QeJJyMcTjVzjc0382jjoK  \n",
       "2  6fsrI0v5fFoKxBwLylvgmp  1fNxx6X8Ae361qBTlCKTtT  6QeJJyMcTjVzjc0382jjoK  \n",
       "3  1qPjR9QOif2p0Xr7XIeZQv  1fNxx6X8Ae361qBTlCKTtT  6QeJJyMcTjVzjc0382jjoK  \n",
       "4  3PwSGW6ln6BVcYz7zHKuql  1fNxx6X8Ae361qBTlCKTtT  6QeJJyMcTjVzjc0382jjoK  "
      ]
     },
     "execution_count": 3,
     "metadata": {},
     "output_type": "execute_result"
    }
   ],
   "source": [
    "# first 5 rows of the data\n",
    "df.head()"
   ]
  },
  {
   "cell_type": "code",
   "execution_count": 4,
   "metadata": {},
   "outputs": [
    {
     "data": {
      "text/plain": [
       "played_at              0\n",
       "track_name             0\n",
       "artist_name            0\n",
       "track_duration_ms      0\n",
       "playlist_name          0\n",
       "popularity             0\n",
       "artist_genres         19\n",
       "album_name             0\n",
       "album_release_date     0\n",
       "album_id               0\n",
       "track_id               0\n",
       "artist_ids             0\n",
       "playlist_id            0\n",
       "dtype: int64"
      ]
     },
     "execution_count": 4,
     "metadata": {},
     "output_type": "execute_result"
    }
   ],
   "source": [
    "# check for missing values\n",
    "df.isnull().sum()"
   ]
  },
  {
   "cell_type": "markdown",
   "metadata": {},
   "source": [
    "### Some numbers"
   ]
  },
  {
   "cell_type": "code",
   "execution_count": 5,
   "metadata": {},
   "outputs": [
    {
     "name": "stdout",
     "output_type": "stream",
     "text": [
      "Total unique tracks: 50\n"
     ]
    }
   ],
   "source": [
    "unique_tracks = df['track_name'].nunique()\n",
    "print(f\"Total unique tracks: {unique_tracks}\")"
   ]
  },
  {
   "cell_type": "code",
   "execution_count": 6,
   "metadata": {},
   "outputs": [
    {
     "name": "stdout",
     "output_type": "stream",
     "text": [
      "Total unique artists: 32\n"
     ]
    }
   ],
   "source": [
    "unique_artists = df['artist_name'].nunique()\n",
    "print(f\"Total unique artists: {unique_artists}\")"
   ]
  },
  {
   "cell_type": "code",
   "execution_count": 7,
   "metadata": {},
   "outputs": [
    {
     "name": "stdout",
     "output_type": "stream",
     "text": [
      "Total unique genres: 20\n"
     ]
    }
   ],
   "source": [
    "unique_genres = df['artist_genres'].nunique()\n",
    "print(f\"Total unique genres: {unique_genres}\")"
   ]
  },
  {
   "cell_type": "markdown",
   "metadata": {},
   "source": [
    "### Top tracks and artists"
   ]
  },
  {
   "cell_type": "code",
   "execution_count": 8,
   "metadata": {},
   "outputs": [
    {
     "name": "stdout",
     "output_type": "stream",
     "text": [
      "Top 10 tracks:\n",
      "track_name\n",
      "The Approaching Night                                                       1\n",
      "Fontaine                                                                    1\n",
      "EA Sports Football Theme                                                    1\n",
      "Mirage Theme - From Assassin's Creed Mirage                                 1\n",
      "Into the Starfield (Main Theme)                                             1\n",
      "Secunda (Transcr. Trifonov for Piano) - From \"The Elder Scrolls: Skyrim\"    1\n",
      "Elden Ring                                                                  1\n",
      "Greater Together (Album Version)                                            1\n",
      "Fields of Dusk - Orchestral Version                                         1\n",
      "Geralt Of Rivia                                                             1\n",
      "Name: count, dtype: int64\n"
     ]
    }
   ],
   "source": [
    "top_tracks = df['track_name'].value_counts().head(10)\n",
    "print(\"Top 10 tracks:\")\n",
    "print(top_tracks)"
   ]
  },
  {
   "cell_type": "code",
   "execution_count": 9,
   "metadata": {},
   "outputs": [
    {
     "name": "stdout",
     "output_type": "stream",
     "text": [
      "Top 10 artists:\n",
      "artist_name\n",
      "Fenton Sykes           5\n",
      "Boccaccio Capello      5\n",
      "Oscar Lynn             5\n",
      "Castello de Rossi      3\n",
      "Gustavo Santaolalla    2\n",
      "Tsukasa Saitoh         2\n",
      "Jeremy Soule           2\n",
      "P.T. Adamczyk          2\n",
      "Elias Freedom          1\n",
      "Nick Arundel           1\n",
      "Name: count, dtype: int64\n"
     ]
    }
   ],
   "source": [
    "top_artists = df['artist_name'].value_counts().head(10)\n",
    "print(\"Top 10 artists:\")\n",
    "print(top_artists)"
   ]
  },
  {
   "cell_type": "markdown",
   "metadata": {},
   "source": [
    "### times when I listen to music "
   ]
  },
  {
   "cell_type": "code",
   "execution_count": 10,
   "metadata": {},
   "outputs": [
    {
     "data": {
      "text/html": [
       "<div>\n",
       "<style scoped>\n",
       "    .dataframe tbody tr th:only-of-type {\n",
       "        vertical-align: middle;\n",
       "    }\n",
       "\n",
       "    .dataframe tbody tr th {\n",
       "        vertical-align: top;\n",
       "    }\n",
       "\n",
       "    .dataframe thead th {\n",
       "        text-align: right;\n",
       "    }\n",
       "</style>\n",
       "<table border=\"1\" class=\"dataframe\">\n",
       "  <thead>\n",
       "    <tr style=\"text-align: right;\">\n",
       "      <th></th>\n",
       "      <th>played_at</th>\n",
       "      <th>track_name</th>\n",
       "      <th>artist_name</th>\n",
       "      <th>track_duration_ms</th>\n",
       "      <th>playlist_name</th>\n",
       "      <th>popularity</th>\n",
       "      <th>artist_genres</th>\n",
       "      <th>album_name</th>\n",
       "      <th>album_release_date</th>\n",
       "      <th>album_id</th>\n",
       "      <th>track_id</th>\n",
       "      <th>artist_ids</th>\n",
       "      <th>playlist_id</th>\n",
       "      <th>day_of_month</th>\n",
       "      <th>day_of_week</th>\n",
       "      <th>hour_of_day</th>\n",
       "    </tr>\n",
       "  </thead>\n",
       "  <tbody>\n",
       "    <tr>\n",
       "      <th>0</th>\n",
       "      <td>2024-08-25 18:01:28</td>\n",
       "      <td>The Approaching Night</td>\n",
       "      <td>Elias Freedom</td>\n",
       "      <td>159.579</td>\n",
       "      <td>Amelie Soundtracks</td>\n",
       "      <td>41</td>\n",
       "      <td>NaN</td>\n",
       "      <td>The Approaching Night</td>\n",
       "      <td>2022-04-23</td>\n",
       "      <td>1gbnePFcPjBks5fUIAkbjc</td>\n",
       "      <td>33VMQ5tXJjjuDmOBklNWbd</td>\n",
       "      <td>14MDig5DwBw9wrIhce4lPs</td>\n",
       "      <td>6QeJJyMcTjVzjc0382jjoK</td>\n",
       "      <td>25</td>\n",
       "      <td>Sunday</td>\n",
       "      <td>18</td>\n",
       "    </tr>\n",
       "    <tr>\n",
       "      <th>1</th>\n",
       "      <td>2024-08-25 18:03:53</td>\n",
       "      <td>Chasing Stars</td>\n",
       "      <td>Oscar Lynn</td>\n",
       "      <td>144.149</td>\n",
       "      <td>Amelie Soundtracks</td>\n",
       "      <td>41</td>\n",
       "      <td>NaN</td>\n",
       "      <td>Chasing Stars</td>\n",
       "      <td>2022-04-23</td>\n",
       "      <td>2ceBNWAz6iCJQF66RHWhUb</td>\n",
       "      <td>3NnxE7YROv1bJtjy6DpfYF</td>\n",
       "      <td>1fNxx6X8Ae361qBTlCKTtT</td>\n",
       "      <td>6QeJJyMcTjVzjc0382jjoK</td>\n",
       "      <td>25</td>\n",
       "      <td>Sunday</td>\n",
       "      <td>18</td>\n",
       "    </tr>\n",
       "    <tr>\n",
       "      <th>2</th>\n",
       "      <td>2024-08-25 18:06:04</td>\n",
       "      <td>Breathe</td>\n",
       "      <td>Oscar Lynn</td>\n",
       "      <td>130.570</td>\n",
       "      <td>Amelie Soundtracks</td>\n",
       "      <td>41</td>\n",
       "      <td>NaN</td>\n",
       "      <td>Breathe</td>\n",
       "      <td>2022-04-23</td>\n",
       "      <td>7uSruNPuddih2WTTmE8yLJ</td>\n",
       "      <td>6fsrI0v5fFoKxBwLylvgmp</td>\n",
       "      <td>1fNxx6X8Ae361qBTlCKTtT</td>\n",
       "      <td>6QeJJyMcTjVzjc0382jjoK</td>\n",
       "      <td>25</td>\n",
       "      <td>Sunday</td>\n",
       "      <td>18</td>\n",
       "    </tr>\n",
       "    <tr>\n",
       "      <th>3</th>\n",
       "      <td>2024-08-25 18:09:31</td>\n",
       "      <td>Bluebird</td>\n",
       "      <td>Oscar Lynn</td>\n",
       "      <td>206.217</td>\n",
       "      <td>Amelie Soundtracks</td>\n",
       "      <td>44</td>\n",
       "      <td>NaN</td>\n",
       "      <td>Bluebird</td>\n",
       "      <td>2022-04-23</td>\n",
       "      <td>4WclUiBu5Ff59eqADXgFMJ</td>\n",
       "      <td>1qPjR9QOif2p0Xr7XIeZQv</td>\n",
       "      <td>1fNxx6X8Ae361qBTlCKTtT</td>\n",
       "      <td>6QeJJyMcTjVzjc0382jjoK</td>\n",
       "      <td>25</td>\n",
       "      <td>Sunday</td>\n",
       "      <td>18</td>\n",
       "    </tr>\n",
       "    <tr>\n",
       "      <th>4</th>\n",
       "      <td>2024-08-25 18:12:32</td>\n",
       "      <td>All My Joy, All My Pain</td>\n",
       "      <td>Oscar Lynn</td>\n",
       "      <td>180.461</td>\n",
       "      <td>Amelie Soundtracks</td>\n",
       "      <td>42</td>\n",
       "      <td>NaN</td>\n",
       "      <td>All My Joy, All My Pain</td>\n",
       "      <td>2022-04-23</td>\n",
       "      <td>4aZfAbzaXyoMrRtkagnXpF</td>\n",
       "      <td>3PwSGW6ln6BVcYz7zHKuql</td>\n",
       "      <td>1fNxx6X8Ae361qBTlCKTtT</td>\n",
       "      <td>6QeJJyMcTjVzjc0382jjoK</td>\n",
       "      <td>25</td>\n",
       "      <td>Sunday</td>\n",
       "      <td>18</td>\n",
       "    </tr>\n",
       "  </tbody>\n",
       "</table>\n",
       "</div>"
      ],
      "text/plain": [
       "            played_at               track_name    artist_name  \\\n",
       "0 2024-08-25 18:01:28    The Approaching Night  Elias Freedom   \n",
       "1 2024-08-25 18:03:53            Chasing Stars     Oscar Lynn   \n",
       "2 2024-08-25 18:06:04                  Breathe     Oscar Lynn   \n",
       "3 2024-08-25 18:09:31                 Bluebird     Oscar Lynn   \n",
       "4 2024-08-25 18:12:32  All My Joy, All My Pain     Oscar Lynn   \n",
       "\n",
       "   track_duration_ms       playlist_name  popularity artist_genres  \\\n",
       "0            159.579  Amelie Soundtracks          41           NaN   \n",
       "1            144.149  Amelie Soundtracks          41           NaN   \n",
       "2            130.570  Amelie Soundtracks          41           NaN   \n",
       "3            206.217  Amelie Soundtracks          44           NaN   \n",
       "4            180.461  Amelie Soundtracks          42           NaN   \n",
       "\n",
       "                album_name album_release_date                album_id  \\\n",
       "0    The Approaching Night         2022-04-23  1gbnePFcPjBks5fUIAkbjc   \n",
       "1            Chasing Stars         2022-04-23  2ceBNWAz6iCJQF66RHWhUb   \n",
       "2                  Breathe         2022-04-23  7uSruNPuddih2WTTmE8yLJ   \n",
       "3                 Bluebird         2022-04-23  4WclUiBu5Ff59eqADXgFMJ   \n",
       "4  All My Joy, All My Pain         2022-04-23  4aZfAbzaXyoMrRtkagnXpF   \n",
       "\n",
       "                 track_id              artist_ids             playlist_id  \\\n",
       "0  33VMQ5tXJjjuDmOBklNWbd  14MDig5DwBw9wrIhce4lPs  6QeJJyMcTjVzjc0382jjoK   \n",
       "1  3NnxE7YROv1bJtjy6DpfYF  1fNxx6X8Ae361qBTlCKTtT  6QeJJyMcTjVzjc0382jjoK   \n",
       "2  6fsrI0v5fFoKxBwLylvgmp  1fNxx6X8Ae361qBTlCKTtT  6QeJJyMcTjVzjc0382jjoK   \n",
       "3  1qPjR9QOif2p0Xr7XIeZQv  1fNxx6X8Ae361qBTlCKTtT  6QeJJyMcTjVzjc0382jjoK   \n",
       "4  3PwSGW6ln6BVcYz7zHKuql  1fNxx6X8Ae361qBTlCKTtT  6QeJJyMcTjVzjc0382jjoK   \n",
       "\n",
       "   day_of_month day_of_week  hour_of_day  \n",
       "0            25      Sunday           18  \n",
       "1            25      Sunday           18  \n",
       "2            25      Sunday           18  \n",
       "3            25      Sunday           18  \n",
       "4            25      Sunday           18  "
      ]
     },
     "execution_count": 10,
     "metadata": {},
     "output_type": "execute_result"
    }
   ],
   "source": [
    "# 'playd_at' column is in string format, convert it to datetime\n",
    "df['played_at'] = pd.to_datetime(df['played_at'])\n",
    "\n",
    "# create new columns for year, month, day, day of week and hour\n",
    "df['day_of_month'] = df['played_at'].dt.day\n",
    "df['day_of_week'] = df['played_at'].dt.day_name()\n",
    "df['hour_of_day'] = df['played_at'].dt.hour\n",
    "\n",
    "df.head()"
   ]
  },
  {
   "cell_type": "code",
   "execution_count": 11,
   "metadata": {},
   "outputs": [
    {
     "name": "stdout",
     "output_type": "stream",
     "text": [
      "Listening habits by day of week:\n",
      "day_of_week\n",
      "Sunday    50\n",
      "Name: count, dtype: int64\n"
     ]
    }
   ],
   "source": [
    "weekday_counts = df['day_of_week'].value_counts()\n",
    "print(\"Listening habits by day of week:\")\n",
    "print(weekday_counts)"
   ]
  },
  {
   "cell_type": "code",
   "execution_count": 12,
   "metadata": {},
   "outputs": [
    {
     "name": "stdout",
     "output_type": "stream",
     "text": [
      "Listening habits by hour of day:\n",
      "hour_of_day\n",
      "18    19\n",
      "19    18\n",
      "20    13\n",
      "Name: count, dtype: int64\n"
     ]
    }
   ],
   "source": [
    "hourly_counts = df['hour_of_day'].value_counts().sort_index()\n",
    "print(\"Listening habits by hour of day:\")\n",
    "print(hourly_counts)"
   ]
  },
  {
   "cell_type": "markdown",
   "metadata": {},
   "source": [
    "### top genres"
   ]
  },
  {
   "cell_type": "code",
   "execution_count": 13,
   "metadata": {},
   "outputs": [
    {
     "name": "stdout",
     "output_type": "stream",
     "text": [
      "Top 10 genres:\n",
      "artist_genres\n",
      "video game music                                                                           6\n",
      "orchestral soundtrack, scorecore, video game music                                         3\n",
      "soundtrack, video game music                                                               3\n",
      "argentine ambient, latin classical, latin soundtrack, orchestral soundtrack, soundtrack    2\n",
      "japanese vgm                                                                               2\n",
      "orchestral soundtrack, scorecore, soundtrack                                               1\n",
      "british soundtrack, orchestral soundtrack, soundtrack                                      1\n",
      "japanese vgm, sound team, video game music                                                 1\n",
      "scorecore, video game music                                                                1\n",
      "old west                                                                                   1\n",
      "Name: count, dtype: int64\n"
     ]
    }
   ],
   "source": [
    "top_genres = df['artist_genres'].value_counts().head(10)\n",
    "print(\"Top 10 genres:\")\n",
    "print(top_genres)"
   ]
  },
  {
   "cell_type": "markdown",
   "metadata": {},
   "source": [
    "### Data Visualization"
   ]
  },
  {
   "cell_type": "code",
   "execution_count": 14,
   "metadata": {},
   "outputs": [
    {
     "data": {
      "image/png": "[encoded data removed]",
      "text/plain": [
       "<Figure size 1000x600 with 1 Axes>"
      ]
     },
     "metadata": {},
     "output_type": "display_data"
    }
   ],
   "source": [
    "# Kuuntelutottumukset eri viikonpäivinä\n",
    "plt.figure(figsize=(10, 6))\n",
    "sns.countplot(data=df, x='day_of_week', order=['Monday', 'Tuesday', 'Wednesday', 'Thursday', 'Friday', 'Saturday', 'Sunday'])\n",
    "plt.title('Listening Habits by Day of Week')\n",
    "plt.xlabel('Day of Week')\n",
    "plt.ylabel('Number of Plays')\n",
    "plt.show()"
   ]
  },
  {
   "cell_type": "code",
   "execution_count": 15,
   "metadata": {},
   "outputs": [
    {
     "data": {
      "image/png": "[encoded data removed]",
      "text/plain": [
       "<Figure size 1000x600 with 1 Axes>"
      ]
     },
     "metadata": {},
     "output_type": "display_data"
    }
   ],
   "source": [
    "# listening habits by hour of day\n",
    "plt.figure(figsize=(10, 6))\n",
    "sns.lineplot(data=hourly_counts)\n",
    "plt.title('Listening Habits by Hour of Day')\n",
    "plt.xlabel('Hour of Day')\n",
    "plt.ylabel('Number of Plays')\n",
    "plt.show()"
   ]
  },
  {
   "cell_type": "code",
   "execution_count": 16,
   "metadata": {},
   "outputs": [
    {
     "data": {
      "image/png": "[encoded data removed]",
      "text/plain": [
       "<Figure size 1000x600 with 1 Axes>"
      ]
     },
     "metadata": {},
     "output_type": "display_data"
    }
   ],
   "source": [
    "# top artists\n",
    "plt.figure(figsize=(10, 6))\n",
    "sns.barplot(x=top_artists.values, y=top_artists.index)\n",
    "plt.title('Top 10 Artists')\n",
    "plt.xlabel('Number of Plays')\n",
    "plt.ylabel('Artist')\n",
    "plt.show()"
   ]
  },
  {
   "cell_type": "markdown",
   "metadata": {},
   "source": [
    "### Using postgreSQL"
   ]
  },
  {
   "cell_type": "code",
   "execution_count": 43,
   "metadata": {},
   "outputs": [
    {
     "name": "stdout",
     "output_type": "stream",
     "text": [
      "            played_at                                      track_name  \\\n",
      "0 2024-08-25 12:21:04     The Ghost's House (From \"Link's Awakening\")   \n",
      "1 2024-08-25 12:23:03                                Tiny Butterflies   \n",
      "2 2024-08-25 12:24:34                                    Signal Flags   \n",
      "3 2024-08-25 12:27:51  A Town With an Ocean View (Cafe Music Version)   \n",
      "4 2024-08-25 12:30:16                                    Manhattanite   \n",
      "\n",
      "              artist_name  track_duration_ms  popularity     artist_genres  \\\n",
      "0            Lucas Cooper             82.133          41         lo-fi vgm   \n",
      "1            Ofelia Moore            118.045          27               NaN   \n",
      "2          Satoshi Takebe             91.000          48       anime score   \n",
      "3  Cafe Music BGM channel            196.524          26  background music   \n",
      "4                   Frook            144.354          35       lo-fi beats   \n",
      "\n",
      "                                  album_name album_release_date  \\\n",
      "0                   Zelda - A Storm of Songs         2020-12-03   \n",
      "1                                   Sweetest         2013-08-23   \n",
      "2           From Up On Poppy Hill Soundtrack         2011-07-13   \n",
      "3  Coffee Music ~Studio Ghibli Jazz & Bossa~         2022-01-01   \n",
      "4                               Manhattanite         2020-03-06   \n",
      "\n",
      "                 album_id                track_id              artist_ids  \\\n",
      "0  24WTQftsC77jLGzkKK7jBP  7JKlWP4yx50HHvOFStFyl4  0jSyQNTa1yVFWCLHRmlTLo   \n",
      "1  0dHVC7mX4u2CgWu0QFcXX9  1Mnhj9z2HEqyC1fHbXjtbM  4CT8m0WT9lfWpM2ppffDtf   \n",
      "2  3rc7HXbkC0kSZIQeQBoqXZ  2aWZdQKcviDldcTWAsgPzh  0pWDwAU3grBQc9GAIQOP2N   \n",
      "3  72pzS6vxcaSYznbz2xeTNS  1Jww5mQJYh1zyPcwfFNKe0  3yKoHgjtyenCOIRaD2Gghu   \n",
      "4  6NIiRK0T9W8ZMKBCQALqKM  0B9l4MSxxNCB6VsW8oAW0p  2H7d3jFAzn7cP11A1c37en   \n",
      "\n",
      "                             playlist_name             playlist_id  \n",
      "0  CAFE MUSIC ~STUDIO GHIBLI Jazz & Bossa~  60AhOOwGhXsn5JD0cn6DsN  \n",
      "1  CAFE MUSIC ~STUDIO GHIBLI Jazz & Bossa~  60AhOOwGhXsn5JD0cn6DsN  \n",
      "2  CAFE MUSIC ~STUDIO GHIBLI Jazz & Bossa~  60AhOOwGhXsn5JD0cn6DsN  \n",
      "3  CAFE MUSIC ~STUDIO GHIBLI Jazz & Bossa~  60AhOOwGhXsn5JD0cn6DsN  \n",
      "4  CAFE MUSIC ~STUDIO GHIBLI Jazz & Bossa~  60AhOOwGhXsn5JD0cn6DsN  \n"
     ]
    }
   ],
   "source": [
    "from sqlalchemy import create_engine\n",
    "import pandas as pd\n",
    "\n",
    "# Database credentials\n",
    "db_host = 'localhost'\n",
    "db_port = '5432'\n",
    "db_name = 'spotify_db'\n",
    "db_user = 'suqqura'\n",
    "db_password = 'keiju'\n",
    "\n",
    "# Create the database engine\n",
    "engine = create_engine(f'postgresql://{db_user}:{db_password}@{db_host}:{db_port}/{db_name}')\n",
    "\n",
    "# Using a connection and cursor with SQLAlchemy\n",
    "with engine.connect() as conn:\n",
    "    with conn.connection.cursor() as curs:\n",
    "        curs.execute(\"SELECT * FROM recent_tracks LIMIT 5;\")\n",
    "        rows = curs.fetchall()\n",
    "\n",
    "        # Convert the result into a pandas DataFrame\n",
    "        df = pd.DataFrame(rows, columns=[desc[0] for desc in curs.description])\n",
    "        print(df)\n",
    "    conn.close()"
   ]
  },
  {
   "cell_type": "code",
   "execution_count": 44,
   "metadata": {},
   "outputs": [
    {
     "name": "stdout",
     "output_type": "stream",
     "text": [
      "             played_at                                         track_name  \\\n",
      "0  2024-08-25 12:21:04        The Ghost's House (From \"Link's Awakening\")   \n",
      "1  2024-08-25 12:23:03                                   Tiny Butterflies   \n",
      "2  2024-08-25 12:24:34                                       Signal Flags   \n",
      "3  2024-08-25 12:27:51     A Town With an Ocean View (Cafe Music Version)   \n",
      "4  2024-08-25 12:30:16                                       Manhattanite   \n",
      "..                 ...                                                ...   \n",
      "84 2024-08-25 20:35:02                               The Way of the Ghost   \n",
      "85 2024-08-25 20:40:00                                   The Final Battle   \n",
      "86 2024-08-25 20:44:22                             Legend of Zelda: Suite   \n",
      "87 2024-08-25 20:48:42        Dearly Beloved - KINGDOM HEARTS II Version-   \n",
      "88 2024-08-25 20:51:57  Assassin's Creed Valhalla Main Theme (feat. Ei...   \n",
      "\n",
      "                                          artist_name  track_duration_ms  \\\n",
      "0                                        Lucas Cooper             82.133   \n",
      "1                                        Ofelia Moore            118.045   \n",
      "2                                      Satoshi Takebe             91.000   \n",
      "3                              Cafe Music BGM channel            196.524   \n",
      "4                                               Frook            144.354   \n",
      "..                                                ...                ...   \n",
      "84                                       Ilan Eshkeri            254.880   \n",
      "85                                     Tsukasa Saitoh            298.444   \n",
      "86  Koji Kondo, Andrew Skeet, London Philharmonic ...            261.168   \n",
      "87                                     Yoko Shimomura            259.105   \n",
      "88  Sarah Schachner, Assassin's Creed, Jesper Kyd,...            195.173   \n",
      "\n",
      "    popularity                                      artist_genres  \\\n",
      "0           41                                          lo-fi vgm   \n",
      "1           27                                                NaN   \n",
      "2           48                                        anime score   \n",
      "3           26                                   background music   \n",
      "4           35                                        lo-fi beats   \n",
      "..         ...                                                ...   \n",
      "84          45  british soundtrack, orchestral soundtrack, sou...   \n",
      "85          48                                   video game music   \n",
      "86          40                                       japanese vgm   \n",
      "87          52                             chiptune, japanese vgm   \n",
      "88          47                       soundtrack, video game music   \n",
      "\n",
      "                                           album_name album_release_date  \\\n",
      "0                            Zelda - A Storm of Songs         2020-12-03   \n",
      "1                                            Sweetest         2013-08-23   \n",
      "2                    From Up On Poppy Hill Soundtrack         2011-07-13   \n",
      "3           Coffee Music ~Studio Ghibli Jazz & Bossa~         2022-01-01   \n",
      "4                                        Manhattanite         2020-03-06   \n",
      "..                                                ...                ...   \n",
      "84      Ghost of Tsushima (Music from the Video Game)         2020-07-17   \n",
      "85              Elden Ring (Original Game Soundtrack)         2022-09-09   \n",
      "86                      The Greatest Video Game Music         2011-11-18   \n",
      "87  KINGDOM HEARTS -HD 2.5 ReMIX- (Original Soundt...         2023-02-08   \n",
      "88  Assassin's Creed Valhalla: Twilight of the God...         2021-01-29   \n",
      "\n",
      "                  album_id                track_id  \\\n",
      "0   24WTQftsC77jLGzkKK7jBP  7JKlWP4yx50HHvOFStFyl4   \n",
      "1   0dHVC7mX4u2CgWu0QFcXX9  1Mnhj9z2HEqyC1fHbXjtbM   \n",
      "2   3rc7HXbkC0kSZIQeQBoqXZ  2aWZdQKcviDldcTWAsgPzh   \n",
      "3   72pzS6vxcaSYznbz2xeTNS  1Jww5mQJYh1zyPcwfFNKe0   \n",
      "4   6NIiRK0T9W8ZMKBCQALqKM  0B9l4MSxxNCB6VsW8oAW0p   \n",
      "..                     ...                     ...   \n",
      "84  6N9upMTvxPR79tutqclKtq  0AnsIh2o4sa9p8pHJOi9oI   \n",
      "85  2gCFzRRO5acruR4y4QhIuI  1nspl7hBhdl6W6GQzbn3V1   \n",
      "86  3bBCofH4VxHokZ6fRCgbGx  5VuHhNAOSsCxF6ltddkEUm   \n",
      "87  6eVWdfj3yizOc8qtEmF00P  6Tkn4gwyqVcpU0ecgtU3bw   \n",
      "88  3WDVwd8Ns69Pryp0A6ETL5  59FMS2jznmqwLYx1Noa6H4   \n",
      "\n",
      "                                           artist_ids  \\\n",
      "0                              0jSyQNTa1yVFWCLHRmlTLo   \n",
      "1                              4CT8m0WT9lfWpM2ppffDtf   \n",
      "2                              0pWDwAU3grBQc9GAIQOP2N   \n",
      "3                              3yKoHgjtyenCOIRaD2Gghu   \n",
      "4                              2H7d3jFAzn7cP11A1c37en   \n",
      "..                                                ...   \n",
      "84                             147dKKwnUn9qesNx8uAs3Z   \n",
      "85                             4iHfF8FJmOcgYAhnhqLqaD   \n",
      "86  1CRvJnCbPjgx0xmBdoex0c, 3HohCe6uYgTtBJcV4PamyK...   \n",
      "87                             2uDsUIyCIqk9wKj17I8WAH   \n",
      "88  692KvxElsJHIJQCS6Eoc32, 5ct8AlcDgWMp4O25vbcjpC...   \n",
      "\n",
      "                              playlist_name             playlist_id  \n",
      "0   CAFE MUSIC ~STUDIO GHIBLI Jazz & Bossa~  60AhOOwGhXsn5JD0cn6DsN  \n",
      "1   CAFE MUSIC ~STUDIO GHIBLI Jazz & Bossa~  60AhOOwGhXsn5JD0cn6DsN  \n",
      "2   CAFE MUSIC ~STUDIO GHIBLI Jazz & Bossa~  60AhOOwGhXsn5JD0cn6DsN  \n",
      "3   CAFE MUSIC ~STUDIO GHIBLI Jazz & Bossa~  60AhOOwGhXsn5JD0cn6DsN  \n",
      "4   CAFE MUSIC ~STUDIO GHIBLI Jazz & Bossa~  60AhOOwGhXsn5JD0cn6DsN  \n",
      "..                                      ...                     ...  \n",
      "84                   Video Game Soundtracks  37i9dQZF1DXdfOcg1fm0VG  \n",
      "85                   Video Game Soundtracks  37i9dQZF1DXdfOcg1fm0VG  \n",
      "86                   Video Game Soundtracks  37i9dQZF1DXdfOcg1fm0VG  \n",
      "87                   Video Game Soundtracks  37i9dQZF1DXdfOcg1fm0VG  \n",
      "88                   Video Game Soundtracks  37i9dQZF1DXdfOcg1fm0VG  \n",
      "\n",
      "[89 rows x 13 columns]\n"
     ]
    }
   ],
   "source": [
    "with engine.connect() as conn:\n",
    "    with conn.connection.cursor() as curs:\n",
    "        # Example: Fetch tracks played on a specific date\n",
    "        curs.execute(\"\"\"\n",
    "            SELECT * FROM recent_tracks\n",
    "            WHERE played_at::date = '2024-08-25';\n",
    "        \"\"\")\n",
    "        rows = curs.fetchall()\n",
    "\n",
    "        # Convert to DataFrame\n",
    "        df = pd.DataFrame(rows, columns=[desc[0] for desc in curs.description])\n",
    "        print(df)\n",
    "    conn.close()\n"
   ]
  },
  {
   "cell_type": "code",
   "execution_count": 47,
   "metadata": {},
   "outputs": [
    {
     "name": "stdout",
     "output_type": "stream",
     "text": [
      "                                          artist_name  play_count\n",
      "0                                        Yann Tiersen          12\n",
      "1                                       Elias Freedom           5\n",
      "2                                          Oscar Lynn           5\n",
      "3                                        Fenton Sykes           5\n",
      "4                                   Boccaccio Capello           5\n",
      "5                              Cafe Music BGM channel           4\n",
      "6                                   Castello de Rossi           3\n",
      "7                                        Jeremy Soule           2\n",
      "8                                 Slumbering Ensemble           2\n",
      "9                                 Gustavo Santaolalla           2\n",
      "10                                      P.T. Adamczyk           2\n",
      "11                                     Tsukasa Saitoh           2\n",
      "12                                       Ofelia Moore           2\n",
      "13                                               ミツキヨ           1\n",
      "14                                     Stephen Barton           1\n",
      "15  chuck e. myers 'sea', J Scott Rakozy, Peter Mu...           1\n",
      "16                                       Lucas Cooper           1\n",
      "17          Halo, Martin O'Donnell, Michael Salvatori           1\n",
      "18                                           Inon Zur           1\n",
      "19  Koji Kondo, Andrew Skeet, London Philharmonic ...           1\n",
      "20                                  Super Guitar Bros           1\n",
      "21                                       Ilan Eshkeri           1\n",
      "22                                             Nawhij           1\n",
      "23                                   Robin Appelqvist           1\n",
      "24                                            Axl Lee           1\n",
      "25                      Jeremy Soule, Daniil Trifonov           1\n",
      "26                                               C418           1\n",
      "27                      Brian Tyler, Assassin's Creed           1\n",
      "28                                    Tomoki Hasegawa           1\n",
      "29   Brendan Angelides, Assassin's Creed, Layth Sidiq           1\n",
      "30                               Bear McCreary, Eivør           1\n",
      "31  Sarah Schachner, Assassin's Creed, Jesper Kyd,...           1\n",
      "32                                     Satoshi Takebe           1\n",
      "33                         John Paesano, Ben Billions           1\n",
      "34                                       Nick Arundel           1\n",
      "35                                     Hikaru Shirosu           1\n",
      "36                                     SIE Sound Team           1\n",
      "37                                              Frook           1\n",
      "38                             The Myth of the Turtle           1\n",
      "39                                   Closed on Sunday           1\n",
      "40                                           Jun Kaji           1\n",
      "41                                Marcin Przybyłowicz           1\n",
      "42                            Bill Elm, Woody Jackson           1\n",
      "43                                             TATRAN           1\n",
      "44                                       John Paesano           1\n",
      "45                       Jesper Kyd, Assassin's Creed           1\n",
      "46                                   Bleeding Fingers           1\n",
      "47                          Closed on Sunday, Tanoshi           1\n",
      "48                                      Jordy Chandra           1\n",
      "49                                     Yoko Shimomura           1\n",
      "50                                           HOYO-MiX           1\n"
     ]
    }
   ],
   "source": [
    "with engine.connect() as conn:\n",
    "    with conn.connection.cursor() as curs:\n",
    "        # Example: Count the number of times each artist's tracks have been played\n",
    "        curs.execute(\"\"\"\n",
    "            SELECT artist_name, COUNT(*) AS play_count\n",
    "            FROM recent_tracks\n",
    "            GROUP BY artist_name\n",
    "            ORDER BY play_count DESC;\n",
    "        \"\"\")\n",
    "        rows = curs.fetchall()\n",
    "\n",
    "        # Convert to DataFrame\n",
    "        df = pd.DataFrame(rows, columns=[desc[0] for desc in curs.description])\n",
    "        print(df)\n",
    "    conn.close()\n"
   ]
  },
  {
   "cell_type": "code",
   "execution_count": 50,
   "metadata": {},
   "outputs": [
    {
     "name": "stdout",
     "output_type": "stream",
     "text": [
      "                                           track_name  \\\n",
      "0                                          Going Home   \n",
      "1                   God of War Ragnarök (feat. Eivør)   \n",
      "2                    (Theme From) Red Dead Redemption   \n",
      "3                            EA Sports Football Theme   \n",
      "4                                           Labyrinth   \n",
      "..                                                ...   \n",
      "84                                    La redécouverte   \n",
      "85  L'autre valse d'Amélie - Quatuor à cordes et p...   \n",
      "86               Comptine d'un autre été: la démarche   \n",
      "87        Dearly Beloved - KINGDOM HEARTS II Version-   \n",
      "88                             七時の食事(Chocolate Lemon)   \n",
      "\n",
      "                artist_name  popularity  rank  \n",
      "0                   Axl Lee          27     1  \n",
      "1      Bear McCreary, Eivør          54     1  \n",
      "2   Bill Elm, Woody Jackson          46     1  \n",
      "3          Bleeding Fingers          30     1  \n",
      "4         Boccaccio Capello          42     1  \n",
      "..                      ...         ...   ...  \n",
      "84             Yann Tiersen          47     9  \n",
      "85             Yann Tiersen          46    11  \n",
      "86             Yann Tiersen          42    12  \n",
      "87           Yoko Shimomura          52     1  \n",
      "88                     ミツキヨ          37     1  \n",
      "\n",
      "[89 rows x 4 columns]\n"
     ]
    }
   ],
   "source": [
    "with engine.connect() as conn:\n",
    "    with conn.connection.cursor() as curs:\n",
    "        # Example: Fetch and export recent tracks to CSV\n",
    "        curs.execute(\"SELECT * FROM recent_tracks;\")\n",
    "        rows = curs.fetchall()\n",
    "\n",
    "        # Convert to DataFrame\n",
    "        df = pd.DataFrame(rows, columns=[desc[0] for desc in curs.description])\n",
    "\n",
    "        # Export to CSV\n",
    "        df.to_csv('recent_tracks_export.csv', index=False)\n",
    "        print(\"Data exported to 'recent_tracks_export.csv'\")\n",
    "    conn.close()\n"
   ]
  }
 ],
 "metadata": {
  "kernelspec": {
   "display_name": "Python 3",
   "language": "python",
   "name": "python3"
  },
  "language_info": {
   "codemirror_mode": {
    "name": "ipython",
    "version": 3
   },
   "file_extension": ".py",
   "mimetype": "text/x-python",
   "name": "python",
   "nbconvert_exporter": "python",
   "pygments_lexer": "ipython3",
   "version": "3.10.12"
  }
 },
 "nbformat": 4,
 "nbformat_minor": 2
}
